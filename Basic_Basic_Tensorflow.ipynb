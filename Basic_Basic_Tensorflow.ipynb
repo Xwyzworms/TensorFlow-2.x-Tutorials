{
  "nbformat": 4,
  "nbformat_minor": 0,
  "metadata": {
    "colab": {
      "name": "Basic-Basic-Tensorflow.ipynb",
      "provenance": [],
      "collapsed_sections": []
    },
    "kernelspec": {
      "name": "python3",
      "display_name": "Python 3"
    }
  },
  "cells": [
    {
      "cell_type": "code",
      "metadata": {
        "id": "4Tj_HN1wgpfH"
      },
      "source": [
        "import tensorflow as tf\n",
        "import numpy as np\n",
        "from tensorflow.keras import Sequential\n",
        "from tensorflow.keras.layers import Dense\n",
        "AUTO = tf.data.experimental.AUTOTUNE"
      ],
      "execution_count": 51,
      "outputs": []
    },
    {
      "cell_type": "code",
      "metadata": {
        "id": "I3PAsm0yg_d0",
        "outputId": "c5bff102-dd39-43ff-ba48-b0013aea9bcc",
        "colab": {
          "base_uri": "https://localhost:8080/",
          "height": 36
        }
      },
      "source": [
        "basic = Sequential([\n",
        "                    Dense(units = 1 , input_shape = [1])\n",
        "])\n",
        "basic.compile(optimizer = tf.keras.optimizers.Adam(0.01),loss = tf.keras.losses.mean_squared_error)\n",
        "\n",
        "x = tf.constant([-1.0, 0.0, 1.0,2.0, 3.0 ,4.0] ,dtype = tf.float32)\n",
        "y = tf.constant([-3.0, -1.0 , 1.0 , 3.0 , 5.0 , 7.0],dtype= tf.float32)\n",
        "\n",
        "basic.fit(x,y ,epochs = 1050,verbose = False)\n",
        "\n",
        "print(basic.predict([10.0])) # 2x -1 \n"
      ],
      "execution_count": 2,
      "outputs": [
        {
          "output_type": "stream",
          "text": [
            "[[19.000002]]\n"
          ],
          "name": "stdout"
        }
      ]
    },
    {
      "cell_type": "code",
      "metadata": {
        "id": "ACCTdZhniDjB"
      },
      "source": [
        ""
      ],
      "execution_count": null,
      "outputs": []
    },
    {
      "cell_type": "code",
      "metadata": {
        "id": "QIJt29RWiDqU",
        "outputId": "fbc0bbd5-bd30-4e04-dd69-43137440a464",
        "colab": {
          "base_uri": "https://localhost:8080/",
          "height": 36
        }
      },
      "source": [
        "## What neural network learn\n",
        "\n",
        "FirstLayer = Dense(units = 1 , input_shape = [1])\n",
        "\n",
        "basic = Sequential([FirstLayer])\n",
        "basic.compile(loss = tf.keras.losses.mean_squared_error,\n",
        "              optimizer = tf.keras.optimizers.Adam(0.01))\n",
        "\n",
        "x = tf.constant([-1.0, 0.0, 1.0,2.0, 3.0 ,4.0] ,dtype = tf.float32)\n",
        "y = tf.constant([-3.0, -1.0 , 1.0 , 3.0 , 5.0 , 7.0],dtype= tf.float32)\n",
        "\n",
        "basic.fit(x,y ,epochs = 1050,verbose = False)\n",
        "\n",
        "print(\"The Weights {}\".format(FirstLayer.get_weights()))\n"
      ],
      "execution_count": 6,
      "outputs": [
        {
          "output_type": "stream",
          "text": [
            "The Weights [array([[1.9999982]], dtype=float32), array([-0.999997], dtype=float32)]\n"
          ],
          "name": "stdout"
        }
      ]
    },
    {
      "cell_type": "code",
      "metadata": {
        "id": "zktUH8Gmk2Sf"
      },
      "source": [
        ""
      ],
      "execution_count": null,
      "outputs": []
    },
    {
      "cell_type": "code",
      "metadata": {
        "id": "jeR5q9qznsf1",
        "outputId": "cba61b1a-cb69-44d5-cde1-05bafbd4334f",
        "colab": {
          "base_uri": "https://localhost:8080/",
          "height": 299
        }
      },
      "source": [
        "data = tf.keras.datasets.fashion_mnist\n",
        "\n",
        "(training_imgs, training_labels), (test_imgs, test_labels) = data.load_data()\n",
        "\n",
        "print(training_imgs[:2])\n",
        "training_imgs = training_imgs / 255.0\n",
        "test_imgs = test_imgs / 255.0"
      ],
      "execution_count": 21,
      "outputs": [
        {
          "output_type": "stream",
          "text": [
            "[[[0 0 0 ... 0 0 0]\n",
            "  [0 0 0 ... 0 0 0]\n",
            "  [0 0 0 ... 0 0 0]\n",
            "  ...\n",
            "  [0 0 0 ... 0 0 0]\n",
            "  [0 0 0 ... 0 0 0]\n",
            "  [0 0 0 ... 0 0 0]]\n",
            "\n",
            " [[0 0 0 ... 0 0 0]\n",
            "  [0 0 0 ... 0 0 0]\n",
            "  [0 0 0 ... 0 0 0]\n",
            "  ...\n",
            "  [0 0 0 ... 0 0 0]\n",
            "  [0 0 0 ... 0 0 0]\n",
            "  [0 0 0 ... 0 0 0]]]\n"
          ],
          "name": "stdout"
        }
      ]
    },
    {
      "cell_type": "code",
      "metadata": {
        "id": "c1EcEnsbqr1U"
      },
      "source": [
        "from tensorflow.keras.utils import to_categorical\n",
        "training_labels, test_labels = to_categorical(training_labels,10) , to_categorical(test_labels, 10)"
      ],
      "execution_count": 22,
      "outputs": []
    },
    {
      "cell_type": "code",
      "metadata": {
        "id": "LagnVvHsrcb1",
        "outputId": "18df1893-7fa7-47dc-a3fd-3b59dfa67403",
        "colab": {
          "base_uri": "https://localhost:8080/",
          "height": 55
        }
      },
      "source": [
        "training_imgs, test_imgs = tf.convert_to_tensor(training_imgs) , tf.convert_to_tensor(test_imgs)\n",
        "TrainDataset , TestDataset = (tf.data.Dataset.from_tensor_slices((training_imgs,training_labels)).\n",
        "                              batch(32).prefetch(AUTO)), tf.data.Dataset.from_tensor_slices((test_imgs,test_labels))\n",
        "TrainDataset.element_spec"
      ],
      "execution_count": 56,
      "outputs": [
        {
          "output_type": "execute_result",
          "data": {
            "text/plain": [
              "(TensorSpec(shape=(None, 28, 28), dtype=tf.float64, name=None),\n",
              " TensorSpec(shape=(None, 10), dtype=tf.float32, name=None))"
            ]
          },
          "metadata": {
            "tags": []
          },
          "execution_count": 56
        }
      ]
    },
    {
      "cell_type": "code",
      "metadata": {
        "id": "Rvs8PQP3oNeB"
      },
      "source": [
        "# Using sequential \n",
        "modelSeq = Sequential([\n",
        "                       tf.keras.layers.Flatten(input_shape=[28, 28]),\n",
        "                       tf.keras.layers.Dense(units = 256, activation = tf.nn.relu),\n",
        "                       tf.keras.layers.Dense(units = 128,activation = tf.nn.leaky_relu),\n",
        "                       tf.keras.layers.Dropout(0.2),\n",
        "                       tf.keras.layers.Dense(10, activation = tf.nn.softmax)\n",
        "                       \n",
        "                       ])\n",
        "\n",
        "# Using Functional Api\n",
        "from tensorflow.keras import Model\n",
        "\n",
        "inputlayer = tf.keras.layers.Input(shape=(28, 28))\n",
        "layer = tf.keras.layers.Flatten()(inputlayer)\n",
        "layer = tf.keras.layers.Dense(units = 256, activation = tf.nn.relu)(layer)\n",
        "layer = tf.keras.layers.Dense(units = 128, activation = tf.nn.leaky_relu)(layer)\n",
        "layer = tf.keras.layers.Dropout(0.2)(layer)\n",
        "layer = tf.keras.layers.Dense(units = 10, activation= tf.nn.softmax)(layer)\n",
        "\n",
        "\n",
        "modelFunc = Model(inputs=[inputlayer], outputs = layer)\n",
        "\n",
        "\n",
        "METRICS =[\n",
        "          tf.keras.metrics.TrueNegatives(name=\"TN\"),\n",
        "          tf.keras.metrics.FalseNegatives(name= \"FN\"),\n",
        "          tf.keras.metrics.TruePositives(name=\"TP\"),\n",
        "          tf.keras.metrics.FalsePositives(name=\"FP\"),\n",
        "          tf.keras.metrics.CategoricalAccuracy(name=\"acc\")\n",
        "]\n",
        "\n",
        "modelSeq.compile(metrics=METRICS, optimizer= tf.keras.optimizers.Adam(0.01),\n",
        "                 loss = tf.keras.losses.CategoricalCrossentropy())\n",
        "\n",
        "modelFunc.compile(metrics=METRICS, optimizer= tf.keras.optimizers.Adam(0.01),\n",
        "                 loss = tf.keras.losses.CategoricalCrossentropy())\n",
        "\n",
        "\n"
      ],
      "execution_count": 57,
      "outputs": []
    },
    {
      "cell_type": "code",
      "metadata": {
        "id": "Nyx2f8JntITc",
        "outputId": "204a7d4b-efa4-4e8a-897d-c822693438db",
        "colab": {
          "base_uri": "https://localhost:8080/",
          "height": 644
        }
      },
      "source": [
        "from tensorflow.keras.utils import plot_model\n",
        "plot_model(modelSeq, show_shapes=True)"
      ],
      "execution_count": 58,
      "outputs": [
        {
          "output_type": "execute_result",
          "data": {
            "image/png": "[encoded data removed]",
            "text/plain": [
              "<IPython.core.display.Image object>"
            ]
          },
          "metadata": {
            "tags": []
          },
          "execution_count": 58
        }
      ]
    },
    {
      "cell_type": "code",
      "metadata": {
        "id": "kPE53AAQqWpS",
        "outputId": "4231ad1a-8b58-4f30-dac5-1d07f1b79ab5",
        "colab": {
          "base_uri": "https://localhost:8080/",
          "height": 55
        }
      },
      "source": [
        "modelSeq.fit(TrainDataset,epochs=5,verbose=False)\n",
        "\n",
        "\n",
        "print(\"Udah yang FunctionalAPi\")\n",
        "modelFunc.fit(TrainDataset,epochs=5,verbose=False)\n"
      ],
      "execution_count": 60,
      "outputs": [
        {
          "output_type": "stream",
          "text": [
            "Udah yang FunctionalAPi\n"
          ],
          "name": "stdout"
        },
        {
          "output_type": "execute_result",
          "data": {
            "text/plain": [
              "<tensorflow.python.keras.callbacks.History at 0x7f77c49be4a8>"
            ]
          },
          "metadata": {
            "tags": []
          },
          "execution_count": 60
        }
      ]
    },
    {
      "cell_type": "code",
      "metadata": {
        "id": "fbwo39JPvYVN",
        "outputId": "eb64890f-b886-4993-f1fe-6ad1ec8a74a9",
        "colab": {
          "base_uri": "https://localhost:8080/",
          "height": 73
        }
      },
      "source": [
        "modelSeq.evaluate(test_imgs,test_labels)\n",
        "\n",
        "modelFunc.evaluate(test_imgs,test_labels)"
      ],
      "execution_count": 61,
      "outputs": [
        {
          "output_type": "stream",
          "text": [
            "313/313 [==============================] - 1s 2ms/step - loss: 0.5359 - TN: 89066.0000 - FN: 2130.0000 - TP: 7870.0000 - FP: 934.0000 - acc: 0.8329\n",
            "313/313 [==============================] - 1s 2ms/step - loss: 0.4862 - TN: 89141.0000 - FN: 2196.0000 - TP: 7804.0000 - FP: 859.0000 - acc: 0.8361\n"
          ],
          "name": "stdout"
        },
        {
          "output_type": "execute_result",
          "data": {
            "text/plain": [
              "[0.48615503311157227, 89141.0, 2196.0, 7804.0, 859.0, 0.8360999822616577]"
            ]
          },
          "metadata": {
            "tags": []
          },
          "execution_count": 61
        }
      ]
    }
  ]
}